{
 "cells": [
  {
   "cell_type": "code",
   "execution_count": null,
   "metadata": {},
   "outputs": [],
   "source": [
    "import numpy as np"
   ]
  },
  {
   "cell_type": "code",
   "execution_count": null,
   "metadata": {},
   "outputs": [],
   "source": [
    "#Alexandre-Theophile Vandermonde Matrix\n",
    "def vanderMat(vec,inc=False,N=0):\n",
    "    if N==0:\n",
    "        N = vec.size\n",
    "    if inc==True:\n",
    "        venMat = np.array([d**n for d in vec for n in range(N)]).reshape(vec.size,N)\n",
    "    elif inc==False:        \n",
    "        venMat = np.array([d**(N-1-n) for d in vec for n in range(N)]).reshape(vec.size,N)\n",
    "    return venMat\n",
    "\n",
    "\n",
    "vec = np.array([1,2,3,4,5])\n",
    "N = 3\n",
    "incTrue = vanderMat(vec,True,N)\n",
    "incFalse = vanderMat(vec,False,N)\n",
    "incSqTrue = vanderMat(vec,True)\n",
    "incSqFalse = vanderMat(vec)\n",
    "print(\"\\nVander Matrix with increasing as True\\n\",incTrue)\n",
    "print(\"\\nVander Matrix with increasing as False\\n\",incFalse)\n",
    "print(\"\\nVander Matrix Square with increasing as True\\n\",incSqTrue)\n",
    "print(\"\\nVander Matrix Square with increasing as False\\n\",incSqFalse)"
   ]
  },
  {
   "cell_type": "code",
   "execution_count": null,
   "metadata": {},
   "outputs": [],
   "source": [
    "#Find moving average in an array over a window\n",
    "k=3\n",
    "inputVal = np.array([3, 5, 7, 2, 8, 10, 11, 65, 72, 81, 99, 100, 150])\n",
    "i=0\n",
    "while i < inputVal.size - k+1:\n",
    "    print(sum(inputVal[i:i+k])/k)\n",
    "    i=i+1\n",
    "   "
   ]
  }
 ],
 "metadata": {
  "kernelspec": {
   "display_name": "Python 3",
   "language": "python",
   "name": "python3"
  },
  "language_info": {
   "codemirror_mode": {
    "name": "ipython",
    "version": 3
   },
   "file_extension": ".py",
   "mimetype": "text/x-python",
   "name": "python",
   "nbconvert_exporter": "python",
   "pygments_lexer": "ipython3",
   "version": "3.7.6"
  }
 },
 "nbformat": 4,
 "nbformat_minor": 4
}
