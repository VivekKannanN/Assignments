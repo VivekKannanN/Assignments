{
 "cells": [
  {
   "cell_type": "code",
   "execution_count": null,
   "metadata": {},
   "outputs": [],
   "source": [
    "1. 𝐻0: 𝜇 = 25, 𝐻1: 𝜇 ≠ 25   - Yes, correctly stated hypothesis testing problem\n",
    "2. 𝐻0: 𝜎 > 10, 𝐻1: 𝜎 = 10   - not correctly stated hypothesis testing problem , it should be not equal to 10\n",
    "3. 𝐻0: 𝑥 = 50, 𝐻1: 𝑥 ≠ 50   - Yes, correctly stated hypothesis testing problem\n",
    "4. 𝐻0: 𝑝 = 0.1, 𝐻1: 𝑝 = 0.5 - not correctly stated hypothesis testing problem, it should be not equal to 0.5\n",
    "5. 𝐻0: 𝑠 = 30, 𝐻1: 𝑠 > 30   - not, correctly stated hypothesis testing problem, it should be less than or equal to 30\n"
   ]
  },
  {
   "cell_type": "code",
   "execution_count": null,
   "metadata": {},
   "outputs": [],
   "source": [
    "#Problem Statement 2:\n",
    "H0 = mean = 52\n",
    "H1 = mean <> 52\n",
    "Significance level = 0.05\n",
    "Population mean = 52\n",
    "Sample mean = 52.80\n",
    "n= 100\n",
    "SD= 4.50\n",
    "\n",
    "Std.error = 4.5 / 10\n",
    "          = .45\n",
    "Ztest = 52.80 - 52 / 0.45\n",
    "      = 1.78\n",
    "z(alpha/2) = z(0.025) = -1.96 and + 1.96\n",
    "\n",
    "Since Ztest 1.78 inside the acceptance region will accept the H0. So mean average cost is = Rs. 52"
   ]
  },
  {
   "cell_type": "code",
   "execution_count": null,
   "metadata": {},
   "outputs": [],
   "source": [
    "#Problem Statement 3: \n",
    "H0 = mean = 34\n",
    "H1 = mean <> 34\n",
    "Significance level = 0.01\n",
    "Population mean = 34\n",
    "Sample mean = 32.5\n",
    "n= 50\n",
    "SD= 8\n",
    "\n",
    "Std.error = 1.13\n",
    "\n",
    "Ztest = 32.5 - 34 / 1.13\n",
    "      = -1.33\n",
    "z(alpha/2) = z(0.005) = -2.57 and + 2.57\n",
    "\n",
    "Since Ztest -1.33 inside the acceptance region will accept the H0. So improvement in filtration devices is true"
   ]
  },
  {
   "cell_type": "code",
   "execution_count": null,
   "metadata": {},
   "outputs": [],
   "source": [
    "#Problem Statement 4: \n",
    "H0 = mean = 1135\n",
    "H1 = mean <> 1135\n",
    "Significance level = 0.05\n",
    "Population mean = 1135\n",
    "Sample mean = 1031.32\n",
    "n= 22\n",
    "SD= 234.847\n",
    "\n",
    "Std.error = 50.07\n",
    "\n",
    "Ztest = 1031.32-1135/50.07\n",
    "      = -2.07\n",
    "z(alpha/2) = z(0.025) = -1.96 and + 1.96\n",
    "\n",
    "Since Ztest -2.07 not inside the critical region will reject the H0. So $1135 annually on dental expenditures is not correct for this area."
   ]
  },
  {
   "cell_type": "code",
   "execution_count": null,
   "metadata": {},
   "outputs": [],
   "source": [
    "#Problem Statement 5:\n",
    "H0 = mean = 48432\n",
    "H1 = mean <> 48432\n",
    "Significance level = 0.05 #its not given in the problem stmt so taken this value\n",
    "Population mean = 48432\n",
    "Sample mean = 48574\n",
    "n= 400\n",
    "SD= 2000\n",
    "\n",
    "std.error = 100\n",
    "Ztest = 48574 - 48432 / 100\n",
    "      = 1.42\n",
    "\n",
    "z(alpha/2) = z(0.025) = -1.96 and + 1.96\n",
    "\n",
    "Since Ztest 1.42 inside the acceptance region will accept the H0. So average family income is $48432"
   ]
  },
  {
   "cell_type": "code",
   "execution_count": null,
   "metadata": {},
   "outputs": [],
   "source": [
    "#Problem Statement 6:\n",
    "H0 = mean = 32.28\n",
    "H1 = mean <> 32.28\n",
    "Significance level = 0.05 \n",
    "Population mean = 32.28\n",
    "Sample mean = 31.67\n",
    "n= 19\n",
    "SD= 1.29\n",
    "\n",
    "std.error = 0.296\n",
    "Ztest = 31.67-32.28 / 0.296\n",
    "      = -2.06\n",
    "\n",
    "z(alpha/2) = z(0.025) = -1.96 and + 1.96\n",
    "\n",
    "Since Ztest -2.06 inside the critical region will reject the H0. So average price is changed now."
   ]
  },
  {
   "cell_type": "code",
   "execution_count": null,
   "metadata": {},
   "outputs": [],
   "source": [
    "#Problem Statement 7:"
   ]
  },
  {
   "cell_type": "code",
   "execution_count": null,
   "metadata": {},
   "outputs": [],
   "source": [
    "#Problem Statement 8:\n",
    "Significance level = 0.05 \n",
    "Population mean = 10\n",
    "Sample mean = 12\n",
    "n= 16\n",
    "SD= 1.5\n",
    "\n",
    "std.error = 1.5/4 = 0.375\n",
    "Ttest = 12-10 / 0.375\n",
    "      = 5.33"
   ]
  },
  {
   "cell_type": "code",
   "execution_count": null,
   "metadata": {},
   "outputs": [],
   "source": [
    "#Problem Statement 9:\n",
    "Significance level = 0.01 \n",
    "d.f = 15\n",
    "t-score below which 99% of sample means will fall is t(.99)= -t(0.01) => -2.602"
   ]
  },
  {
   "cell_type": "code",
   "execution_count": null,
   "metadata": {},
   "outputs": [],
   "source": [
    "#Problem Statement 10: \n",
    "\n",
    "t-score of middle 95% of all sample means lies between \n",
    "lower limit = 60 - (-1.96) * 4/5 => 58.43\n",
    "upper limit = 60 + (1.96) * 4/5 => 61.57"
   ]
  },
  {
   "cell_type": "code",
   "execution_count": null,
   "metadata": {},
   "outputs": [],
   "source": [
    "#Problem Statement 11:\n",
    "n1 = 1200\n",
    "x1 = 452\n",
    "s1 = 212\n",
    "\n",
    "n2 = 800\n",
    "x2 = 523\n",
    "s2 = 185\n",
    "\n",
    "S.E = Sq.rt of (212)**2/1200 + (185)**2/800\n",
    "    = 8.96\n",
    "\n",
    "Z test = 452-523 / 8.96\n",
    "       = -7.93\n",
    "Z(0.025) = -2.81\n",
    "\n",
    "Since Z_test is less than z(0.025) will reject H0 i.e. there is no eveidence\n"
   ]
  },
  {
   "cell_type": "code",
   "execution_count": null,
   "metadata": {},
   "outputs": [],
   "source": [
    "#Problem Statement 12:\n",
    "n1: Duracell\n",
    "n1 = 100\n",
    "x1 = 308\n",
    "s1 = 84\n",
    "\n",
    "n2: Energizer\n",
    "n2 = 100\n",
    "x2 = 254\n",
    "s2 = 67\n",
    "\n",
    "S.E = sq.rt of 84**2/100 + 67**2/100\n",
    "    = 10.74\n",
    "\n",
    "Z_test = 308-254 / 10.74\n",
    "       = 5.028\n",
    "    \n",
    "Z(0.025) = -2.81\n",
    "\n",
    "Since Z_test is greater than z(0.025) will accept H0 i.e.  that the number of people preferring Duracell battery is\n",
    "different from the number of people preferring Energizer battery"
   ]
  },
  {
   "cell_type": "code",
   "execution_count": null,
   "metadata": {},
   "outputs": [],
   "source": [
    "#Problem Statement 13: \n",
    "Population 1: Price of sugar = Rs. 27.50 \n",
    "n1 = 14\n",
    "x1 = 0.317%\n",
    "s1 = 0.12%\n",
    "Population 2: Price of sugar = Rs. 20.00 \n",
    "n2 = 9\n",
    "x2 = 0.21%\n",
    "s2 = 0.11%\n",
    "\n",
    "H0 : price of sugar increases\n",
    "Ha : price of sugar not increases\n",
    "    \n",
    "S.E = 0.049\n",
    "t_stat = 0.317 - 0.21 / 0.049 \n",
    "       = 2.183\n",
    "t 0.025 with d.f 21 (13 + 8) = 2.080\n",
    "since t_stat > t(0.025) will reject the H0"
   ]
  },
  {
   "cell_type": "code",
   "execution_count": null,
   "metadata": {},
   "outputs": [],
   "source": [
    "#Problem Statement 14:\n",
    "Population 1: Before reduction\n",
    "n1 = 15\n",
    "x1 = Rs. 6598 \n",
    "s1 = Rs. 844\n",
    "Population 2: After reduction \n",
    "n2 = 12\n",
    "x2 = RS. 6870\n",
    "s2 = Rs. 669\n",
    "\n",
    "H0: sales not increased\n",
    "Ha: sales increased\n",
    "\n",
    "S.E = sq.rt of 844**2/15 + 669**2/12\n",
    "    = sq.rt of 47489.07 + 37296.75\n",
    "    = 291.18\n",
    "\n",
    "t_stat = 6598 - 6870 / 291.18\n",
    "       = -0.934\n",
    "\n",
    "t(0.025) with d.f 25 = 2.060\n",
    "\n",
    "since t_stat < t(0.025) will accept the H0"
   ]
  },
  {
   "cell_type": "code",
   "execution_count": null,
   "metadata": {},
   "outputs": [],
   "source": [
    "#Problem Statement 15:\n",
    "Population 1: 1980\n",
    "n1 = 1000\n",
    "x1 = 53\n",
    "𝑝1 = 0.53\n",
    "Population 2: 1985\n",
    "n2 = 100\n",
    "x2 = 43\n",
    "𝑝2= 0.53\n",
    "\n",
    "H0 : p1-p2 = 0\n",
    "Ha : p1-p2 <>0\n",
    "\n",
    "z_stat = 0.53 - 0.53/ sq.rt of 0.087 * 0.913 (1/1000 + 1/100)\n",
    "  = 1\n",
    "    \n",
    "z(0.05)= 1.64\n",
    "\n",
    "z_stat < z(0.05) so H0 is not rejected"
   ]
  },
  {
   "cell_type": "code",
   "execution_count": null,
   "metadata": {},
   "outputs": [],
   "source": [
    "#Problem Statement 16:\n",
    "Population 1: With sweepstakes\n",
    "n1 = 300\n",
    "x1 = 120\n",
    "𝑝 = 0.40\n",
    "Population 2: No sweepstakes \n",
    "n2 = 700\n",
    "x2 = 140\n",
    "𝑝 2= 0.20\n",
    "\n",
    "z_stat = 0.10/0.032 \n",
    "       = 3.118\n",
    "z(0.05) = 1.64\n",
    "\n",
    "So H0 is rejected"
   ]
  },
  {
   "cell_type": "code",
   "execution_count": null,
   "metadata": {},
   "outputs": [],
   "source": [
    "#Problem Statement 17:\n",
    "\n",
    "H0: The die is unbiased\n",
    "Ha: The die is not unbiased.\n",
    "\n",
    "Frequency = 132/6 =22\n",
    "\n",
    "X(chi)   = (16 -22)**2 + (20-22)**2 + (25-22)**2 + (14-22)**2+ (29-22)**2+ (28-22)**2 /22\n",
    "    = 198/22\n",
    "    = 9\n",
    "Critical value for D.F 5 is =11.0705\n",
    "So H0 is accepted."
   ]
  },
  {
   "cell_type": "code",
   "execution_count": null,
   "metadata": {},
   "outputs": [],
   "source": [
    "#Problem Statement 18:\n",
    "\n",
    "H0 : gender and voting independent\n",
    "Ha : gender and voting dependent\n",
    "    \n",
    "Expected frequency of men = 6383 * 4278 / 10000 => 2731\n",
    "Expected frequncy of women = 6383 * 5722/10000 => 3652\n",
    "\n",
    "X(chi) = 6.6\n",
    "D.f = 1\n",
    "\n",
    "x(chi) 6.6 is greater than 0.455 so reject H0 i.e. they are dependent"
   ]
  },
  {
   "cell_type": "code",
   "execution_count": null,
   "metadata": {},
   "outputs": [],
   "source": [
    "#Problem Statement 19:\n",
    "\n",
    "H0: all candidates prefered equally\n",
    "Ha: all candidates not prefered equally\n",
    "\n",
    "X(chi) = 10.24+ 1.44 + 0.04 + 3.24 = 14.96\n",
    "D.f = 3\n",
    "\n",
    "Chi-Square for 0.05 significance level with 3 d.f. is 7.82\n",
    "\n",
    "Since Chi-Square value is bigger we reject H0. So they are not prefered equally"
   ]
  },
  {
   "cell_type": "code",
   "execution_count": null,
   "metadata": {},
   "outputs": [],
   "source": [
    "#Problem Statement 20:\n",
    "\n",
    "H0 : there is no significant relationship between age of child and photograph preference\n",
    "H1 : there is a significant relationship between age of child and photograph preference\n",
    "\n",
    "Chi-Square = 29.6, with 4 df\n",
    "\n",
    "For a 0.001 significance level and 4 d.f. is 18.46 in the table. Since chi-square value is bigger we reject H0."
   ]
  },
  {
   "cell_type": "code",
   "execution_count": null,
   "metadata": {},
   "outputs": [],
   "source": [
    "#Problem Statement 21:\n",
    "\n",
    "H0: no  difference between the \"support\" and \"no support\" conditions\n",
    "Ha:  difference between the \"support\" and \"no support\" conditions\n",
    "\n",
    "Chi-Square = 19.87, with 1 df\n",
    "\n",
    "Since chi-square value is bigger than for a 0.001 significance level and 1 d.f. we reject H0."
   ]
  },
  {
   "cell_type": "code",
   "execution_count": null,
   "metadata": {},
   "outputs": [],
   "source": [
    "#Problem Statement 22:\n",
    "H0 : no relationship between height and leadership qualities\n",
    "Ha : relationship there between height and leadership qualities\n",
    "    \n",
    "Chi-Square = 10.71, with 2 df\n",
    "\n",
    "10.71 is bigger than the table value of Chi-Square at the 0.01 so accept Ha"
   ]
  },
  {
   "cell_type": "code",
   "execution_count": null,
   "metadata": {},
   "outputs": [],
   "source": [
    "#Problem Statement 23:\n",
    "Ho: Men marital status and labor force status independent \n",
    "Ha: Men marital status and labor force status dependent\n",
    "    \n",
    "chi-square value = 31.61\n",
    "Chi value of 0.05 with d.f (3 - 1)(3 - 1) 4 is 9.48\n",
    "\n",
    "Since ch-square value > than table value we accept Ha."
   ]
  }
 ],
 "metadata": {
  "kernelspec": {
   "display_name": "Python 3",
   "language": "python",
   "name": "python3"
  },
  "language_info": {
   "codemirror_mode": {
    "name": "ipython",
    "version": 3
   },
   "file_extension": ".py",
   "mimetype": "text/x-python",
   "name": "python",
   "nbconvert_exporter": "python",
   "pygments_lexer": "ipython3",
   "version": "3.7.6"
  }
 },
 "nbformat": 4,
 "nbformat_minor": 4
}
