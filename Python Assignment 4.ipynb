{
 "cells": [
  {
   "cell_type": "code",
   "execution_count": null,
   "metadata": {},
   "outputs": [],
   "source": [
    "#Program to calculate area of the triangle using 3 sides\n",
    "class main:\n",
    "    def __init__(self,l1,l2,l3):\n",
    "        self.side1,self.side2,self.side3 = l1,l2,l3\n",
    "        \n",
    "class sub(main):\n",
    "    def __init__(self,*args):\n",
    "        super(sub,self).__init__(*args)        \n",
    "        \n",
    "    def getArea(self):\n",
    "        s =  (self.side1+self.side2+self.side3)/2\n",
    "        return  (s*(s-self.side1)*(s-self.side2)*(s-self.side3))**0.5\n",
    "\n",
    "l1 = int(input(\"Enter triangle slide1 lenght :\"))\n",
    "l2 = int(input(\"Enter triangle slide2 lenght :\"))\n",
    "l3 = int(input(\"Enter triangle slide3 lenght :\"))\n",
    "area = sub(l1,l2,l3)\n",
    "area.getArea()"
   ]
  },
  {
   "cell_type": "code",
   "execution_count": null,
   "metadata": {},
   "outputs": [],
   "source": [
    "#Program to list of words that are greater than the specified length\n",
    "def filter_long_words(wordslist,length):    \n",
    "    return list(filter(lambda word:len(word) > length,wordslist))\n",
    "        \n",
    "words =[\"abc\",\"cdefg\",\"abcd\",\"wweerrtt\"]\n",
    "print(filter_long_words(words,7))     \n",
    "    "
   ]
  },
  {
   "cell_type": "code",
   "execution_count": null,
   "metadata": {},
   "outputs": [],
   "source": [
    "#Program to calculate length of each items in the list using map()\n",
    "def getWordsLength(word):\n",
    "    return len(word)\n",
    "\n",
    "print(list(map(getWordsLength,[\"abc\",\"Hello\",\"welcome\",\"hi\"])))"
   ]
  },
  {
   "cell_type": "code",
   "execution_count": null,
   "metadata": {},
   "outputs": [],
   "source": [
    "#Program to find the given character is vowel or not\n",
    "def isVowel(alphabet):\n",
    "    str=\"aeiou\"\n",
    "    for i in str:\n",
    "        if alphabet ==i:\n",
    "            return True\n",
    "            break\n",
    "        else:\n",
    "            continue\n",
    "    else:\n",
    "        return False\n",
    "\n",
    "a = input(\"Enter the character to check is vowel: \")\n",
    "print(\"Is entered character is vowel: \", isVowel(a))"
   ]
  }
 ],
 "metadata": {
  "kernelspec": {
   "display_name": "Python 3",
   "language": "python",
   "name": "python3"
  },
  "language_info": {
   "codemirror_mode": {
    "name": "ipython",
    "version": 3
   },
   "file_extension": ".py",
   "mimetype": "text/x-python",
   "name": "python",
   "nbconvert_exporter": "python",
   "pygments_lexer": "ipython3",
   "version": "3.7.6"
  }
 },
 "nbformat": 4,
 "nbformat_minor": 4
}
