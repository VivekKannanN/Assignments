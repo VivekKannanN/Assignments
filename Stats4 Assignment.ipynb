{
 "cells": [
  {
   "cell_type": "code",
   "execution_count": null,
   "metadata": {},
   "outputs": [],
   "source": [
    "#Problem 1\n",
    "\n",
    "Expected counts:\n",
    "\n",
    "        High School Bachelors Masters  Ph.d.    Total\n",
    "Female 50.886       49.868    50.377  49.868    201\n",
    "Male   49.114       48.132    48.623  48.132    194\n",
    "Total  100          98        99      98        95\n",
    "\n",
    "So, chi value is (60-50.886)**2/50.886 +.....+ (57-48.132)**2/48.132 = 8.006\n",
    "\n",
    "The critical value of with 3 degree of freedom is 7.815. \n",
    "Since 8.006 > 7.815, we reject the null hypothesis \n",
    "Therfore the education level depends on gender at a 5% level of significance\n"
   ]
  },
  {
   "cell_type": "code",
   "execution_count": null,
   "metadata": {},
   "outputs": [],
   "source": [
    "#problem 3\n",
    "Calculate F Test for given 10, 20, 30, 40, 50 and 5,10,15, 20, 25.\n",
    "    \n",
    "Variance of set 1 : 200\n",
    "Variance of set 2 : 50\n",
    "so F value is 4"
   ]
  }
 ],
 "metadata": {
  "kernelspec": {
   "display_name": "Python 3",
   "language": "python",
   "name": "python3"
  },
  "language_info": {
   "codemirror_mode": {
    "name": "ipython",
    "version": 3
   },
   "file_extension": ".py",
   "mimetype": "text/x-python",
   "name": "python",
   "nbconvert_exporter": "python",
   "pygments_lexer": "ipython3",
   "version": "3.7.6"
  }
 },
 "nbformat": 4,
 "nbformat_minor": 4
}
