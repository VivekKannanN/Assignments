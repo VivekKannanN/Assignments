{
 "cells": [
  {
   "cell_type": "code",
   "execution_count": null,
   "metadata": {},
   "outputs": [],
   "source": [
    "#Program to implement reduce() functionality\n",
    "#Can change the operator in if and else for outp variable with -,*,/ instead of +\n",
    "redu = [1,2,3,4,5]\n",
    "i=0;\n",
    "while i < len(redu):\n",
    "    if i==0:\n",
    "        outp = redu[i]+ redu[i+1]\n",
    "        i=i+1\n",
    "        continue\n",
    "    elif i == len(redu)-1:\n",
    "        break\n",
    "    else:\n",
    "        outp =outp+redu[i+1]\n",
    "        i=i+1\n",
    "\n",
    "print(outp)"
   ]
  },
  {
   "cell_type": "code",
   "execution_count": null,
   "metadata": {},
   "outputs": [],
   "source": [
    "#Program to implement filter() functionality\n",
    "def myEvenfilter(a):\n",
    "    even=[]\n",
    "    for i in a:\n",
    "        if i%2==0:\n",
    "            even.append(i)\n",
    "        else:\n",
    "            continue\n",
    "    else:\n",
    "        return even\n",
    "evenlist = myEvenfilter([1,2,3,4,50])\n",
    "evenlist"
   ]
  },
  {
   "cell_type": "code",
   "execution_count": null,
   "metadata": {},
   "outputs": [],
   "source": [
    "#Program to print ['x', 'xx', 'xxx', 'xxxx', 'y', 'yy', 'yyy', 'yyyy', 'z', 'zz', 'zzz', 'zzzz']\n",
    "a=[]\n",
    "for i in \"xyz\":    \n",
    "    for j in range(1,5):\n",
    "        a.append(i*j)        \n",
    "else:\n",
    "    print(a)"
   ]
  },
  {
   "cell_type": "code",
   "execution_count": null,
   "metadata": {},
   "outputs": [],
   "source": [
    "#Program to print ['x', 'y', 'z', 'xx', 'yy', 'zz', 'xxx', 'yyy', 'zzz', 'xxxx', 'yyyy', 'zzzz']\n",
    "a1=[]\n",
    "for i1 in range(1,5):\n",
    "    for j1 in \"xyz\":  \n",
    "        a1.append(i1*j1)        \n",
    "else:\n",
    "    print(a1)"
   ]
  },
  {
   "cell_type": "code",
   "execution_count": null,
   "metadata": {},
   "outputs": [],
   "source": [
    "#Program to print [[2], [3], [4], [3], [4], [5], [4], [5], [6]]\n",
    "a2=[]\n",
    "for i2 in range(2,5):\n",
    "    for j2 in range(0,3):\n",
    "        a2.append([i2+j2])        \n",
    "else:\n",
    "    print(a2)    "
   ]
  },
  {
   "cell_type": "code",
   "execution_count": null,
   "metadata": {},
   "outputs": [],
   "source": [
    "#Program to print [[2, 3, 4, 5], [3, 4, 5, 6],[4, 5, 6, 7], [5, 6, 7, 8]]\n",
    "a3=[]\n",
    "a4=[]\n",
    "for i3 in range(2,6):\n",
    "    for j3 in range(0,4):\n",
    "        a3.append(i3+j3)        \n",
    "    else:\n",
    "        a4.append(a3)\n",
    "        a3=[]\n",
    "else:\n",
    "    print(a4)"
   ]
  },
  {
   "cell_type": "code",
   "execution_count": null,
   "metadata": {},
   "outputs": [],
   "source": [
    "#Program to print ['x', 'y', 'z', 'xx', 'yy', 'zz', 'xxx', 'yyy', 'zzz', 'xxxx', 'yyyy', 'zzzz']\n",
    "a4=[]\n",
    "for i4 in range(1,4):\n",
    "    for j4 in range(1,4):  \n",
    "        a4.append((j4,i4))\n",
    "else:\n",
    "    print(a4)"
   ]
  }
 ],
 "metadata": {
  "kernelspec": {
   "display_name": "Python 3",
   "language": "python",
   "name": "python3"
  },
  "language_info": {
   "codemirror_mode": {
    "name": "ipython",
    "version": 3
   },
   "file_extension": ".py",
   "mimetype": "text/x-python",
   "name": "python",
   "nbconvert_exporter": "python",
   "pygments_lexer": "ipython3",
   "version": "3.7.6"
  }
 },
 "nbformat": 4,
 "nbformat_minor": 4
}
