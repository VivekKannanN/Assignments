{
 "cells": [
  {
   "cell_type": "code",
   "execution_count": null,
   "metadata": {},
   "outputs": [],
   "source": [
    "#Program to implement reduce() functionality\n",
    "#Can change the operator in if and else for outp variable with -,*,/ instead of +\n",
    "redu = [1,2,3,4,5]\n",
    "i=0;\n",
    "while i < len(redu):\n",
    "    if i==0:\n",
    "        outp = redu[i]+ redu[i+1]\n",
    "        i=i+1\n",
    "        continue\n",
    "    elif i == len(redu)-1:\n",
    "        break\n",
    "    else:\n",
    "        outp =outp+redu[i+1]\n",
    "        i=i+1\n",
    "\n",
    "print(outp)"
   ]
  },
  {
   "cell_type": "code",
   "execution_count": null,
   "metadata": {},
   "outputs": [],
   "source": [
    "#Program to implement filter() functionality\n",
    "def myEvenfilter(a):\n",
    "    even=[]\n",
    "    for i in a:\n",
    "        if i%2==0:\n",
    "            even.append(i)\n",
    "        else:\n",
    "            continue\n",
    "    else:\n",
    "        return even\n",
    "evenlist = myEvenfilter([1,2,3,4,50])\n",
    "evenlist"
   ]
  },
  {
   "cell_type": "code",
   "execution_count": null,
   "metadata": {},
   "outputs": [],
   "source": [
    "#Program to print ['x', 'xx', 'xxx', 'xxxx', 'y', 'yy', 'yyy', 'yyyy', 'z', 'zz', 'zzz', 'zzzz']\n",
    "a123 = ['x','y','z']\n",
    "b123 =[x*e for x in a123 for e in range(1,5)]\n",
    "print( b123)"
   ]
  },
  {
   "cell_type": "code",
   "execution_count": null,
   "metadata": {},
   "outputs": [],
   "source": [
    "#Program to print ['x', 'y', 'z', 'xx', 'yy', 'zz', 'xxx', 'yyy', 'zzz', 'xxxx', 'yyyy', 'zzzz']\n",
    "a124 = ['x','y','z']\n",
    "b124 =[x*e for e in range(1,5) for x in a123]\n",
    "print( b124)"
   ]
  },
  {
   "cell_type": "code",
   "execution_count": null,
   "metadata": {},
   "outputs": [],
   "source": [
    "#Program to print [[2], [3], [4], [3], [4], [5], [4], [5], [6]]\n",
    "b125 =[[x+e] for e in range(2,5) for x in range(0,3)]\n",
    "print( b125)   "
   ]
  },
  {
   "cell_type": "code",
   "execution_count": null,
   "metadata": {},
   "outputs": [],
   "source": [
    "#Program to print [[2, 3, 4, 5], [3, 4, 5, 6],[4, 5, 6, 7], [5, 6, 7, 8]]\n",
    "b126 =[[x+e for e in range(2,6)] for x in range(0,4)]\n",
    "print( b126)  "
   ]
  },
  {
   "cell_type": "code",
   "execution_count": null,
   "metadata": {},
   "outputs": [],
   "source": [
    "#program to print [(1, 1), (2, 1), (3, 1), (1, 2), (2, 2), (3, 2), (1, 3), (2, 3), (3, 3)]\n",
    "b127 =((x,e) for e in range(1,4) for x in range(1,4))\n",
    "list(b127)"
   ]
  }
 ],
 "metadata": {
  "kernelspec": {
   "display_name": "Python 3",
   "language": "python",
   "name": "python3"
  },
  "language_info": {
   "codemirror_mode": {
    "name": "ipython",
    "version": 3
   },
   "file_extension": ".py",
   "mimetype": "text/x-python",
   "name": "python",
   "nbconvert_exporter": "python",
   "pygments_lexer": "ipython3",
   "version": "3.7.6"
  }
 },
 "nbformat": 4,
 "nbformat_minor": 4
}
