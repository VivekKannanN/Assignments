{
 "cells": [
  {
   "cell_type": "code",
   "execution_count": null,
   "metadata": {
    "scrolled": true
   },
   "outputs": [],
   "source": [
    "#Problem Statement 1: \n",
    "import numpy as np \n",
    "from scipy import stats\n",
    "  \n",
    "list = [6,7,5,7,7,8,7,6,9,7,4,10,6,8,8,9,5,6,4,8] \n",
    "  \n",
    "print('mean',np.average(list))\n",
    "print('median',np.median(list))\n",
    "print('mode',stats.mode(list))\n",
    "print('variance',np.var(list))\n",
    "print('standard deviation',np.std(list))\n"
   ]
  },
  {
   "cell_type": "code",
   "execution_count": null,
   "metadata": {},
   "outputs": [],
   "source": [
    "#Problem Statement 2:\n",
    "Total = 3623 #Sum of all the calls for the month\n",
    "mean = Total/35 \n",
    "median =100\n",
    "mode = 75\n",
    "print('Total', Total)\n",
    "print('Mean',mean)\n",
    "print(\"Median\",median)\n",
    "print('Mode',mode)"
   ]
  },
  {
   "cell_type": "code",
   "execution_count": null,
   "metadata": {},
   "outputs": [],
   "source": [
    "#Problem Statement 3\n",
    "mean_no_of_workouts = 0*0.09 +1*0.15+2* 0.40+3*0.25+4*0.10+5*0.01 \n",
    "\n",
    "#variance = sum of (x-mean)^2 * f(x)\n",
    "variance = ((0-2.15)**2 * 0.09)+ ((1-2.15)**2 * 0.15) + ((2-2.15)**2 * 0.40) + ((3-2.15)**2 * 0.25) + ((4-2.15)**2 * 0.10) + ((5-2.15)**2 * 0.01)         \n",
    "\n",
    "print('Mean',mean_no_of_workouts)\n",
    "print('Variance', variance)"
   ]
  },
  {
   "cell_type": "code",
   "execution_count": null,
   "metadata": {},
   "outputs": [],
   "source": [
    "#Problem Statement 4 and 9:  \n",
    "P(X > 12.6) = Integral of 20e^(-20(x-12.5)) for 12.6 to Inf\n",
    "            = e**-2\n",
    "            = 0.135\n",
    "P(12.5 <X < 12.6) = 1-P(X > 12.6)\n",
    "                  = 1 - 0.135\n",
    "                  = 0.865        \n"
   ]
  },
  {
   "cell_type": "code",
   "execution_count": null,
   "metadata": {},
   "outputs": [],
   "source": [
    "#Problem Statement 5: \n",
    "p(x) = .30 #failure\n",
    "x= 2\n",
    "P(X=2) = 6!/2!4! * (.3)**2 *(.7)**4\n",
    "       = 0.3241    \n",
    "Mean = n*p = .3 * 6 = 1.8\n",
    "Standard deviation = sqrt[ n * P * ( 1 - P ) ]\n",
    "                   = sqrt[6*.3*.7]\n",
    "                   = 1.122"
   ]
  },
  {
   "cell_type": "code",
   "execution_count": null,
   "metadata": {},
   "outputs": [],
   "source": [
    "#Problem Statement 6:  //pictorical form pending\n",
    "\n",
    "#Gaurav probability is\n",
    "P(X=5) = 8!/5!3! * (.75)**5 * (.25)**3\n",
    "       = 0.208\n",
    "\n",
    "#Barakha probability is\n",
    "P(X=5) = 12!/5!7! * (.45)**5 * (.55)**7\n",
    "       = 0.222\n",
    "    \n",
    "#in cases of 4 and 6 correct solutions\n",
    "#Gaurav probability for 4 correct solution is\n",
    "P(X=4) = 8!/4!4! * (.75)**4 * (.25)**4\n",
    "       = 0.087\n",
    "    \n",
    "#Gaurav probability for 6 correct solution is\n",
    "P(X=6) = 8!/6!2! * (.75)**6 * (.25)**2\n",
    "       = 0.311\n",
    "\n",
    "#Barakha probability for 4 correct solution is\n",
    "P(X=4) = 12!/4!8! * (.45)**4 * (.55)**8\n",
    "       = 0.170\n",
    "    \n",
    "#Barakha probability for 6 correct solution is\n",
    "P(X=6) = 12!/6!6! * (.45)**6 * (.55)**6\n",
    "       = 0.212\n",
    "\n",
    "# two main governing factors affecting their ability to solve questions\n",
    "1. Number of questions solved per day\n",
    "2. Correction rate"
   ]
  },
  {
   "cell_type": "code",
   "execution_count": null,
   "metadata": {},
   "outputs": [],
   "source": [
    "#Problem Statement 7  \n",
    "Mean =72 perhour\n",
    "So Mean for 4 minutes= 72* 4 /60 = 4.8 \n",
    "\n",
    "#5 customers\n",
    "P(5)= e-4.8* 4.8**5 /5!\n",
    "P(5)= 0.008 * 2548.04 /5!\n",
    "    = 20.384 / 5!\n",
    "    = 0.16986\n",
    "\n",
    "#not more than 3 customers\n",
    "= 1-P(4)- P(5)\n",
    "= 1- 0.008* 4.8**4/ 4!- 0.008* 4.8**5/5!\n",
    "= 1- 4.247/4!- 0.16986\n",
    "= 1-0.177-0.16986\n",
    "P(<=3) =0.653\n",
    "\n",
    "#more than 3 customers.\n",
    "P(>3) = P(4) + P(5)\n",
    "      = 0.177+ 0.170\n",
    "      = 0.347\n",
    "\n"
   ]
  },
  {
   "cell_type": "code",
   "execution_count": null,
   "metadata": {},
   "outputs": [],
   "source": [
    "#Problem Statement 8:  \n",
    "77 words per minute so 455 words in 5.91 minutes.\n",
    "6 errors per 60 minutes so for 5.91 minutes 0.591 errors\n",
    "\n",
    "#2 errors in a 455-word financial report\n",
    "P(2) = e-0.591 * 0.591**2 /2!\n",
    "     = 0.554 * 0.349 / 2!\n",
    "     = 0.097\n",
    "\n",
    "#2 errors in a 1000-word financial report\n",
    "77 words per minute so 1000 words in 12.99 minutes.\n",
    "6 errors per 60 minutes so for 12.99 minutes 1.299 errors\n",
    "P(2) = e-1.299* 1.299**2 / 2!\n",
    "     = 0.273* 1.687 / 2\n",
    "     = 0.23\n",
    "\n",
    "#2 errors in a 255-word financial report\n",
    "77 words per minute so 255 words in 3.31 minutes.\n",
    "6 errors per 60 minutes so for 3.31 minutes 0.331 errors\n",
    "P(2) = e-0.331 * 0.331**2 / 2!\n",
    "     = 0.718 * 0.662 / 2!\n",
    "     = 0.039\n",
    "\n",
    "#How is lanbda affected\n",
    "Lambda value increases or descreases as the number of words increase or descrease.\n",
    "So PMF for 2 errors high if more words are typed in.\n"
   ]
  },
  {
   "cell_type": "code",
   "execution_count": null,
   "metadata": {},
   "outputs": [],
   "source": [
    "#Problem Statement 10:\n",
    "\n",
    "# P(Z > 1.26), . P(Z < −0.86), P(Z > −1.37), P(−1.25 < Z < 0.37), . P(Z ≤ −4.6)\n",
    "P(Z > 1.26) = 1 - P(Z = 1.26) \n",
    "            = 1 - .8962\n",
    "            = 0.1038\n",
    "\n",
    "P(Z < −0.86) = 0.1949\n",
    "\n",
    "P(Z > −1.37) = 1 - P(Z = -1.37)\n",
    "             = 1-0.0853\n",
    "             = .9147\n",
    "P(−1.25 < Z < 0.37) = P(z=0.37) - P(z=-1.25)\n",
    "                    = .6443 - .1056\n",
    "                    = .5387\n",
    "P(Z ≤ −4.6) = 0\n",
    "\n",
    "# Find the value 𝑧 such that 𝑃(𝑍 > 𝑧) = 0.05\n",
    "   Value of z = -1.64\n",
    "    \n",
    "# Find the value of 𝑧 such that 𝑃(−𝑧 < 𝑍 < 𝑧) = 0.99\n",
    "   Value of z = 2.33"
   ]
  },
  {
   "cell_type": "code",
   "execution_count": null,
   "metadata": {},
   "outputs": [],
   "source": [
    "#Problem Statement 11:\n",
    "#probability that a current measurement will exceed 13 𝑚A\n",
    "\n",
    "mean = 10\n",
    "SD = 2\n",
    "\n",
    "P(>13) = 1- p(13)  \n",
    "       = 1 - 13-10/2\n",
    "       = 1- (1.5)\n",
    "       = 1- .9332 #z value for 1.5\n",
    "       = 0.0668\n",
    "        \n",
    "#probability that a current measurement is between 9 and 11mA\n",
    "9-10/2 < P < 11-10/2\n",
    "-0.5 < p < 0.5\n",
    ".3085 < p < .6915\n",
    "=> .6915 - .3085\n",
    "=> 0.383\n",
    "\n",
    "#current measurement which has a probability of 0.98\n",
    "14.12"
   ]
  },
  {
   "cell_type": "code",
   "execution_count": null,
   "metadata": {},
   "outputs": [],
   "source": [
    "mean =0.2508 //to check\n",
    "SD = 0.0005\n",
    "\n",
    "P(0.2500−0.0015 ≤ X ≤0.2500+0.0015)\n",
    "=P(0.2485≤X≤0.2515)\n",
    "=P(−4.6 ≤ z ≤ 1.4)\n",
    "=0.9192−0\n",
    "=0.9192\n",
    "\n",
    "#mean is equal to the target value of 0.2500\n",
    "P(0.2500−0.0015 ≤ X ≤0.2500+0.0015)\n",
    "=P(0.2485≤X≤0.2515)\n",
    "=P(−3 ≤ z ≤ 3)\n",
    "=0.9987−0.0013\n",
    "=0.9974"
   ]
  }
 ],
 "metadata": {
  "kernelspec": {
   "display_name": "Python 3",
   "language": "python",
   "name": "python3"
  },
  "language_info": {
   "codemirror_mode": {
    "name": "ipython",
    "version": 3
   },
   "file_extension": ".py",
   "mimetype": "text/x-python",
   "name": "python",
   "nbconvert_exporter": "python",
   "pygments_lexer": "ipython3",
   "version": "3.7.6"
  }
 },
 "nbformat": 4,
 "nbformat_minor": 4
}
