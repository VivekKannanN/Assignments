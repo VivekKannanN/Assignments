{
 "cells": [
  {
   "cell_type": "code",
   "execution_count": null,
   "metadata": {},
   "outputs": [],
   "source": [
    "import pandas as pd\n",
    "import numpy as np"
   ]
  },
  {
   "cell_type": "code",
   "execution_count": null,
   "metadata": {},
   "outputs": [],
   "source": [
    "df = pd.DataFrame({'From_To': ['LoNDon_paris', 'MAdrid_miLAN',\n",
    "'londON_StockhOlm',\n",
    "'Budapest_PaRis', 'Brussels_londOn'],\n",
    "'FlightNumber': [10045, np.nan, 10065, np.nan, 10085],\n",
    "'RecentDelays': [[23, 47], [], [24, 43, 87], [13], [67, 32]],\n",
    "'Airline': ['KLM(!)', '<Air France> (12)', '(British Airways. )',\n",
    "'12. Air France', '\"Swiss Air\"']})"
   ]
  },
  {
   "cell_type": "code",
   "execution_count": null,
   "metadata": {},
   "outputs": [],
   "source": [
    "df"
   ]
  },
  {
   "cell_type": "code",
   "execution_count": null,
   "metadata": {},
   "outputs": [],
   "source": [
    "#increase by 10 for each row of FlightNumber column\n",
    "df['FlightNumber'] = df.apply(lambda x: df['FlightNumber'][0] +(10* x.index))\n",
    "df"
   ]
  },
  {
   "cell_type": "code",
   "execution_count": null,
   "metadata": {},
   "outputs": [],
   "source": [
    "#convert FlightNumber column from float to int\n",
    "df['FlightNumber']=df['FlightNumber'].astype(int)\n",
    "df"
   ]
  },
  {
   "cell_type": "code",
   "execution_count": null,
   "metadata": {},
   "outputs": [],
   "source": [
    "#split From_To column and assign to temporary dataframe\n",
    "df1 = pd.DataFrame(df['From_To'].apply(lambda x: pd.Series(x.split('_'))))\n",
    "df1.rename(columns={0:'From',1:'To'},inplace=True)\n",
    "df1"
   ]
  },
  {
   "cell_type": "code",
   "execution_count": null,
   "metadata": {},
   "outputs": [],
   "source": [
    "#Capitalization of the city names on the first character alone\n",
    "df1 = df1[['From','To']].apply(lambda x: x.str.capitalize())\n",
    "df1"
   ]
  },
  {
   "cell_type": "code",
   "execution_count": null,
   "metadata": {},
   "outputs": [],
   "source": [
    "#delete 'From_To' column and attach the temporary column\n",
    "df3 = pd.concat([df1,df],axis=1)\n",
    "df3.drop(['From_To'],inplace=True,axis=1)\n",
    "df3"
   ]
  },
  {
   "cell_type": "code",
   "execution_count": null,
   "metadata": {},
   "outputs": [],
   "source": [
    "#Expand the Series of lists into a DataFrame\n",
    "delay = pd.DataFrame(df3['RecentDelays'].to_list())\n",
    "delay.rename(columns={0:'delay_0',1:'delay_1',2:'delay_2'},inplace=True)\n",
    "delay"
   ]
  },
  {
   "cell_type": "code",
   "execution_count": null,
   "metadata": {},
   "outputs": [],
   "source": [
    "#replace the unwanted RecentDelays column in df with delays\n",
    "df3.drop(columns='RecentDelays',inplace=True,axis=1)\n",
    "df3[['delay_0','delay_1','delay_2']]= delay\n",
    "df3 = df3[['From','To','FlightNumber','delay_0','delay_1','delay_2','Airline']]\n",
    "df3"
   ]
  },
  {
   "cell_type": "code",
   "execution_count": null,
   "metadata": {},
   "outputs": [],
   "source": []
  }
 ],
 "metadata": {
  "kernelspec": {
   "display_name": "Python 3",
   "language": "python",
   "name": "python3"
  },
  "language_info": {
   "codemirror_mode": {
    "name": "ipython",
    "version": 3
   },
   "file_extension": ".py",
   "mimetype": "text/x-python",
   "name": "python",
   "nbconvert_exporter": "python",
   "pygments_lexer": "ipython3",
   "version": "3.7.6"
  }
 },
 "nbformat": 4,
 "nbformat_minor": 4
}
