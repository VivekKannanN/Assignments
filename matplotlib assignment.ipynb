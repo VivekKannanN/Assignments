{
 "cells": [
  {
   "cell_type": "code",
   "execution_count": null,
   "metadata": {},
   "outputs": [],
   "source": [
    "import pandas as pd\n",
    "import numpy as np\n",
    "import matplotlib.pyplot as plt\n",
    "import seaborn as sns"
   ]
  },
  {
   "cell_type": "code",
   "execution_count": null,
   "metadata": {},
   "outputs": [],
   "source": [
    "maxTemp = np.array([39, 41, 43, 47, 49, 51, 45, 38, 37, 29, 27, 25])\n",
    "minTemp = np.array([21, 23, 27, 28, 32, 35, 31, 28, 21, 19, 17, 18])\n",
    "months = np.arange(12)"
   ]
  },
  {
   "cell_type": "code",
   "execution_count": null,
   "metadata": {},
   "outputs": [],
   "source": [
    "def temp(times, avg, a, time_offset):\n",
    "    #acos(bx+c)+d\n",
    "    #period = 2pi/b\n",
    "    return (a * np.cos((times + time_offset) * 2 * np.pi / times.max()) + avg)    "
   ]
  },
  {
   "cell_type": "code",
   "execution_count": null,
   "metadata": {},
   "outputs": [],
   "source": [
    "#1.fitting it to the periodic function\n",
    "#2.plot the fit\n",
    "from scipy import optimize\n",
    "maxOpt, max_cov = optimize.curve_fit(temp,months,maxTemp, [5, 10, 0]) \n",
    "minOpt, min_cov = optimize.curve_fit(temp, months,minTemp, [0, .5, 1])\n",
    "\n",
    "days = np.linspace(0, 12,20)\n",
    "plt.figure()\n",
    "plt.plot(months, maxTemp, 'ro')\n",
    "plt.plot(months, minTemp, 'bo')\n",
    "plt.plot(days, temp(days, *maxOpt), 'r-')\n",
    "plt.plot(days, temp(days, *minOpt), 'b-')\n",
    "plt.xlabel('Month')\n",
    "plt.ylabel('Temperature')\n",
    "\n",
    "plt.show()"
   ]
  },
  {
   "cell_type": "code",
   "execution_count": null,
   "metadata": {},
   "outputs": [],
   "source": [
    "url=r\"https://raw.githubusercontent.com/Geoyi/Cleaning-Titanic-Data/master/titanic_original.csv\"\n",
    "titanic = pd.read_csv(url)\n"
   ]
  },
  {
   "cell_type": "code",
   "execution_count": null,
   "metadata": {},
   "outputs": [],
   "source": [
    "#pie chart presenting the male/female proportion\n",
    "titanic['sex'].value_counts().plot(kind='pie',autopct='%2f')"
   ]
  },
  {
   "cell_type": "code",
   "execution_count": null,
   "metadata": {},
   "outputs": [],
   "source": [
    "#scatterplot with the Fare paid and the Age, differ the plot color by gender\n",
    "sns.scatterplot(x = 'fare', y = 'age', data = titanic, hue='sex')"
   ]
  },
  {
   "cell_type": "code",
   "execution_count": null,
   "metadata": {},
   "outputs": [],
   "source": []
  }
 ],
 "metadata": {
  "kernelspec": {
   "display_name": "Python 3",
   "language": "python",
   "name": "python3"
  },
  "language_info": {
   "codemirror_mode": {
    "name": "ipython",
    "version": 3
   },
   "file_extension": ".py",
   "mimetype": "text/x-python",
   "name": "python",
   "nbconvert_exporter": "python",
   "pygments_lexer": "ipython3",
   "version": "3.7.6"
  }
 },
 "nbformat": 4,
 "nbformat_minor": 4
}
