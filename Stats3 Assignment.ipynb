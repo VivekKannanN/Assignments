{
 "cells": [
  {
   "cell_type": "code",
   "execution_count": null,
   "metadata": {},
   "outputs": [],
   "source": [
    "#problem 1\n",
    "\n",
    "H0:μ=100\n",
    "H1:≠100\n",
    "alpha = 0.05/2=0.025\n",
    "A z-score for 0.025 is 1.96. \n",
    "z = (108 – 100) / (15/6) = 3.2.\n",
    "Z value is greater that 1.96 so reject the null hypothesis. "
   ]
  },
  {
   "cell_type": "code",
   "execution_count": null,
   "metadata": {},
   "outputs": [],
   "source": [
    "#problem 2\n",
    "\n",
    "Mean Difference in no. of  republican  in both the states = 0.52  - 0.47  = 0.05\n",
    "\n",
    "standard deviation   =   sq.rt of ((0.52)(0.48)/100 + (0.47)(0.53)/100 ) =  0.0706\n",
    "\n",
    "Z =  ( 0 - 0.05)/ 0.0706  \n",
    "\n",
    "Z  = -0.708\n",
    "\n",
    "From Z score table -0.708 refers to 0.24\n",
    "\n",
    "Hence 0.24 is the probability that the survey will show a greater percentage of Republican voters in the second  state than in the first state"
   ]
  },
  {
   "cell_type": "code",
   "execution_count": null,
   "metadata": {},
   "outputs": [],
   "source": [
    "#problem 3\n",
    "\n",
    "Z = (1100 – 1026) / 209 = .354. Shows score was .354 std devs above the mean.\n",
    "\n",
    "Z-score of .354 is .1368 + .5000 = .6368 or 63.68%."
   ]
  }
 ],
 "metadata": {
  "kernelspec": {
   "display_name": "Python 3",
   "language": "python",
   "name": "python3"
  },
  "language_info": {
   "codemirror_mode": {
    "name": "ipython",
    "version": 3
   },
   "file_extension": ".py",
   "mimetype": "text/x-python",
   "name": "python",
   "nbconvert_exporter": "python",
   "pygments_lexer": "ipython3",
   "version": "3.7.6"
  }
 },
 "nbformat": 4,
 "nbformat_minor": 4
}
